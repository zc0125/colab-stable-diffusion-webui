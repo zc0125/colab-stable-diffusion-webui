{
  "cells": [
    {
      "cell_type": "markdown",
      "metadata": {
        "id": "view-in-github",
        "colab_type": "text"
      },
      "source": [
        "<a href=\"https://colab.research.google.com/github/zc0125/colab-stable-diffusion-webui/blob/main/v1/run_stable_diffusion_ipynb.ipynb\" target=\"_parent\"><img src=\"https://colab.research.google.com/assets/colab-badge.svg\" alt=\"Open In Colab\"/></a>"
      ]
    },
    {
      "cell_type": "code",
      "source": [
        "# 运行前同步运行资源到运行目录\n",
        "# 进行生成任务时，可以尝试以下几个方面来获得更好的结果：\n",
        "\n",
        "# 1. 调整模型参数：stable_diffusion 提供了多个可以调整的参数，如扰动系数、迭代次数等等。根据具体任务的需要，可以进行适当调整。\n",
        "\n",
        "# 2. 使用更大的模型：如果任务需要更高的生成质量或更高的分辨率，可以考虑使用更大的模型。但需要注意，使用更大的模型会占用更多的显存，可能需要更高的计算资源。\n",
        "\n",
        "# 3. 优化输入数据：稳定扰动生成模型对输入数据质量要求较高。可以通过对输入数据进行预处理、调整分辨率等操作，提高输入数据的质量，进而提高生成结果的质量。\n",
        "\n",
        "# 4. 使用多个模型进行集成：可以尝试将多个模型的生成结果进行集成，获得更好的生成效果。集成方法可以是简单的平均，也可以使用更复杂的加权平均等方法。\n",
        "\n",
        "import os\n",
        "from google.colab.output import eval_js\n",
        "from google.colab import drive\n",
        "%cd /content/\n",
        "drive.mount('/content/drive')\n",
        "os.environ['colab_url'] = eval_js(\"google.colab.kernel.proxyPort(7860, {'cache': false})\")\n",
        "\n",
        "!apt -y update -qq\n",
        "!wget http://launchpadlibrarian.net/367274644/libgoogle-perftools-dev_2.5-2.2ubuntu3_amd64.deb\n",
        "!wget https://launchpad.net/ubuntu/+source/google-perftools/2.5-2.2ubuntu3/+build/14795286/+files/google-perftools_2.5-2.2ubuntu3_all.deb\n",
        "!wget https://launchpad.net/ubuntu/+source/google-perftools/2.5-2.2ubuntu3/+build/14795286/+files/libtcmalloc-minimal4_2.5-2.2ubuntu3_amd64.deb\n",
        "!wget https://launchpad.net/ubuntu/+source/google-perftools/2.5-2.2ubuntu3/+build/14795286/+files/libgoogle-perftools4_2.5-2.2ubuntu3_amd64.deb\n",
        "!apt install -qq libunwind8-dev\n",
        "!dpkg -i *.deb\n",
        "%env LD_PRELOAD=libtcmalloc.so\n",
        "!rm *.deb\n",
        "!apt -y install -qq aria2\n",
        "\n",
        "uninstall_flag = True\n",
        "try:\n",
        "  import torch\n",
        "  uninstall_flag = False if torch.__version__ == \"1.13.1+cu117\" else True\n",
        "except:\n",
        "  pass\n",
        "if uninstall_flag:\n",
        "# 冲突卸载重装\n",
        "  !pip uninstall torchvision -y\n",
        "  !pip install torch==1.13.1+cu117 torchvision==0.14.1+cu117 --extra-index-url https://download.pytorch.org/whl/cu117\n",
        "!pip uninstall xformers -y\n",
        "!CUDA=1 pip install xformers==0.0.16rc425\n",
        "!pip install -q --pre triton==2.0.0 -U\n",
        "\n",
        "# 同步stable-diffusion-webui项目\n",
        "!test -d /content/stable-diffusion-webui || git clone https://github.com/AUTOMATIC1111/stable-diffusion-webui.git /content/stable-diffusion-webui\n",
        "%cd /content/stable-diffusion-webui/\n",
        "# 如果新版本有问题重置到稳定版本\n",
        "# !git reset --hard 22bcc7be428c94e9408f589966c2040187245d81\n",
        "# 初始化检查文件夹\n",
        "!test -d /content/stable-diffusion-webui/extensions || mkdir /content/stable-diffusion-webui/extensions -p\n",
        "!test -d /content/stable-diffusion-webui/models/Stable-diffusion || mkdir /content/stable-diffusion-webui/models/Stable-diffusion -p\n",
        "!test -d /content/stable-diffusion-webui/models/Lora || mkdir /content/stable-diffusion-webui/models/Lora -p\n",
        "!test -d /content/stable-diffusion-webui/models/ControlNet || mkdir /content/stable-diffusion-webui/models/ControlNet -p\n",
        "!test -d /content/stable-diffusion-webui/models/BLIP || mkdir /content/stable-diffusion-webui/models/BLIP -p\n",
        "!test -d /content/stable-diffusion-webui/models/Codeformer || mkdir /content/stable-diffusion-webui/models/Codeformer -p\n",
        "# 同步并使用网盘上的图片保存路径（如果网盘存在对应的路径）\n",
        "!test -d /content/drive/MyDrive/stable-diffusion-webui/outputs || mv /content/stable-diffusion-webui/outputs /content/drive/MyDrive/stable-diffusion-webui/\n",
        "!test -d /content/drive/MyDrive/stable-diffusion-webui/outputs && test -d /content/stable-diffusion-webui/outputs && rm -rf /content/stable-diffusion-webui/outputs\n",
        "!test -d /content/drive/MyDrive/stable-diffusion-webui/outputs && ln -s /content/drive/MyDrive/stable-diffusion-webui/outputs /content/stable-diffusion-webui/outputs\n",
        "# 同步并使用网盘上的models（如果网盘存在对应的路径）\n",
        "# 先同步之前的备份\n",
        "!test -d /content/drive/MyDrive/stable-diffusion-webui/models/back_Stable-diffusion && (test -z \"$(ls -A /content/drive/MyDrive/stable-diffusion-webui/models/back_Stable-diffusion)\" || ln -sf /content/drive/MyDrive/stable-diffusion-webui/models/back_Stable-diffusion/* /content/stable-diffusion-webui/models/Stable-diffusion/)\n",
        "!test -d /content/drive/MyDrive/stable-diffusion-webui/models/back_Lora && (test -z \"$(ls -A /content/drive/MyDrive/stable-diffusion-webui/models/back_Lora)\" || ln -sf /content/drive/MyDrive/stable-diffusion-webui/models/back_Lora/* /content/stable-diffusion-webui/models/Lora/)\n",
        "!test -d /content/drive/MyDrive/stable-diffusion-webui/models/back_ControlNet && (test -z \"$(ls -A /content/drive/MyDrive/stable-diffusion-webui/models/back_ControlNet)\" || ln -sf /content/drive/MyDrive/stable-diffusion-webui/models/back_ControlNet/* /content/stable-diffusion-webui/models/ControlNet/)\n",
        "!test -d /content/drive/MyDrive/stable-diffusion-webui/models/back_BLIP && (test -z \"$(ls -A /content/drive/MyDrive/stable-diffusion-webui/models/back_BLIP)\" || ln -sf /content/drive/MyDrive/stable-diffusion-webui/models/back_BLIP/* /content/stable-diffusion-webui/models/BLIP/)\n",
        "!test -d /content/drive/MyDrive/stable-diffusion-webui/models/back_Codeformer && (test -z \"$(ls -A /content/drive/MyDrive/stable-diffusion-webui/models/back_Codeformer)\" || ln -sf /content/drive/MyDrive/stable-diffusion-webui/models/back_Codeformer/* /content/stable-diffusion-webui/models/Codeformer/)\n",
        "# 新的model覆盖备份\n",
        "!test -d /content/drive/MyDrive/stable-diffusion-webui/models/Stable-diffusion && (test -z \"$(ls -A /content/drive/MyDrive/stable-diffusion-webui/models/Stable-diffusion)\" || ln -sf /content/drive/MyDrive/stable-diffusion-webui/models/share_stable-diffusion*/* /content/stable-diffusion-webui/models/Stable-diffusion/)\n",
        "!test -d /content/drive/MyDrive/stable-diffusion-webui/models/Lora && (test -z \"$(ls -A /content/drive/MyDrive/stable-diffusion-webui/models/Lora)\" || ln -sf /content/drive/MyDrive/stable-diffusion-webui/models/share_lora*/* /content/stable-diffusion-webui/models/Lora/)\n",
        "!test -d /content/drive/MyDrive/stable-diffusion-webui/models/ControlNet && (test -z \"$(ls -A /content/drive/MyDrive/stable-diffusion-webui/models/ControlNet)\" || ln -sf /content/drive/MyDrive/stable-diffusion-webui/models/ControlNet*/* /content/stable-diffusion-webui/models/ControlNet/)\n",
        "!test -d /content/drive/MyDrive/stable-diffusion-webui/models/BLIP && (test -z \"$(ls -A /content/drive/MyDrive/stable-diffusion-webui/models/BLIP)\" || ln -sf /content/drive/MyDrive/stable-diffusion-webui/models/BLIP*/* /content/stable-diffusion-webui/models/BLIP/)\n",
        "!test -d /content/drive/MyDrive/stable-diffusion-webui/models/Codeformer && (test -z \"$(ls -A /content/drive/MyDrive/stable-diffusion-webui/models/Codeformer)\" || ln -sf /content/drive/MyDrive/stable-diffusion-webui/models/Codeformer*/* /content/stable-diffusion-webui/models/Codeformer/)\n",
        "\n",
        "# 复制model到运行路径 （目前使用的是软链）\n",
        "# !test -d /content/drive/MyDrive/stable-diffusion-webui/models/Stable-diffusion && cp /content/drive/MyDrive/stable-diffusion-webui/models/Stable-diffusion/* /content/stable-diffusion-webui/models/Stable-diffusion/ -ru\n",
        "# !test -d /content/drive/MyDrive/stable-diffusion-webui/models/Lora && cp /content/drive/MyDrive/stable-diffusion-webui/models/Lora/* /content/stable-diffusion-webui/models/Lora/ -ru\n",
        "# !test -d /content/drive/MyDrive/stable-diffusion-webui/models/ControlNet && cp /content/drive/MyDrive/stable-diffusion-webui/models/ControlNet/* /content/stable-diffusion-webui/models/ControlNet/ -ru\n",
        "# !test -d /content/drive/MyDrive/stable-diffusion-webui/models/BLIP && cp /content/drive/MyDrive/stable-diffusion-webui/models/BLIP/* /content/stable-diffusion-webui/models/BLIP/ -ru\n",
        "# !test -d /content/drive/MyDrive/stable-diffusion-webui/models/Codeformer && cp /content/drive/MyDrive/stable-diffusion-webui/models/Codeformer/* /content/stable-diffusion-webui/models/Codeformer/ -ru\n",
        "\n",
        "# 同步并使用网盘上的拓展（如果网盘存在对应的路径）（有的拓展同步运行存在问题不要使用）\n",
        "# !test -d /content/drive/MyDrive/stable-diffusion-webui/extensions || mv /content/stable-diffusion-webui/extensions /content/drive/MyDrive/stable-diffusion-webui/\n",
        "# !test -d /content/drive/MyDrive/stable-diffusion-webui/extensions && test -d /content/stable-diffusion-webui/extensions && rm -rf /content/stable-diffusion-webui/extensions\n",
        "# !ln -s /content/drive/MyDrive/stable-diffusion-webui/extensions /content/stable-diffusion-webui/extensions\n",
        "# 复制拓展应该可以(能在网上下载的拓展尽量不要保存，复制起来很慢)\n",
        "# !test -d /content/drive/MyDrive/stable-diffusion-webui/extensions && ln -s -f /content/drive/MyDrive/stable-diffusion-webui/extensions/* /content/stable-diffusion-webui/extensions\n",
        "# !test -d /content/drive/MyDrive/stable-diffusion-webui/extensions && cp -r -u /content/drive/MyDrive/stable-diffusion-webui/extensions/* /content/stable-diffusion-webui/extensions\n",
        "# 安装新的拓展\n",
        "!test -d /content/stable-diffusion-webui/extensions/stable-diffusion-webui-images-browser || git clone https://github.com/AlUlkesh/stable-diffusion-webui-images-browser /content/stable-diffusion-webui/extensions/stable-diffusion-webui-images-browser\n",
        "!test -d /content/stable-diffusion-webui/extensions/stable-diffusion-webui-huggingface || git clone https://github.com/camenduru/stable-diffusion-webui-huggingface /content/stable-diffusion-webui/extensions/stable-diffusion-webui-huggingface\n",
        "!test -d /content/stable-diffusion-webui/extensions/sd-civitai-browser || git clone -b v2.0 https://github.com/camenduru/sd-civitai-browser /content/stable-diffusion-webui/extensions/sd-civitai-browser\n",
        "!test -d /content/stable-diffusion-webui/extensions/sd-webui-additional-networks || git clone https://github.com/kohya-ss/sd-webui-additional-networks /content/stable-diffusion-webui/extensions/sd-webui-additional-networks\n",
        "!test -d /content/stable-diffusion-webui/extensions/sd-webui-controlnet || git clone https://github.com/Mikubill/sd-webui-controlnet /content/stable-diffusion-webui/extensions/sd-webui-controlnet\n",
        "!test -d /content/stable-diffusion-webui/extensions/openpose-editor || git clone https://github.com/camenduru/openpose-editor /content/stable-diffusion-webui/extensions/openpose-editor\n",
        "!test -d /content/stable-diffusion-webui/extensions/sd-webui-depth-lib || git clone https://github.com/jexom/sd-webui-depth-lib /content/stable-diffusion-webui/extensions/sd-webui-depth-lib\n",
        "!test -d /content/stable-diffusion-webui/extensions/posex || git clone https://github.com/hnmr293/posex /content/stable-diffusion-webui/extensions/posex\n",
        "!test -d /content/stable-diffusion-webui/extensions/sd-webui-tunnels || git clone https://github.com/camenduru/sd-webui-tunnels /content/stable-diffusion-webui/extensions/sd-webui-tunnels\n",
        "!test -d /content/stable-diffusion-webui/extensions/batchlinks-webui || git clone https://github.com/etherealxx/batchlinks-webui /content/stable-diffusion-webui/extensions/batchlinks-webui\n",
        "!test -d /content/stable-diffusion-webui/extensions/stable-diffusion-webui-chinese || git clone https://github.com/VinsonLaro/stable-diffusion-webui-chinese /content/stable-diffusion-webui/extensions/stable-diffusion-webui-chinese\n",
        "!test -d /content/stable-diffusion-webui/extensions/tagcomplete || git clone -b branch/chinese-ex https://github.com/zc0125/webui-tagcomplete.git /content/stable-diffusion-webui/extensions/tagcomplete\n",
        "# 使用备份配置文件\n",
        "!test -f /content/drive/MyDrive/stable-diffusion-webui/config.json && ln -sf /content/drive/MyDrive/stable-diffusion-webui/config.json /content/stable-diffusion-webui/config.json\n",
        "\n",
        "\n",
        "# 直接启动\n",
        "# !python launch.py --listen --xformers --enable-insecure-extension-access --theme dark --gradio-queue --multiple"
      ],
      "metadata": {
        "id": "SnwCn7M8XJ5h"
      },
      "execution_count": null,
      "outputs": []
    },
    {
      "cell_type": "code",
      "source": [
        "!python launch.py --listen --xformers --enable-insecure-extension-access --theme dark --gradio-queue --multiple"
      ],
      "metadata": {
        "id": "mgazoMuDSqX8"
      },
      "execution_count": null,
      "outputs": []
    },
    {
      "cell_type": "code",
      "source": [
        "# 同步本次运行配置文件\n",
        "!test -f /content/stable-diffusion-webui/config.json && cp /content/stable-diffusion-webui/config.json /content/drive/MyDrive/stable-diffusion-webui/config.json\n",
        "!test -f /content/drive/MyDrive/stable-diffusion-webui/config.json && ln -sf /content/drive/MyDrive/stable-diffusion-webui/config.json /content/stable-diffusion-webui/config.json"
      ],
      "metadata": {
        "id": "R0BprDfauBcm"
      },
      "execution_count": null,
      "outputs": []
    },
    {
      "cell_type": "code",
      "source": [
        "# 重置运行目录\n",
        "%cd /content/\n",
        "!rm -rf /content/stable-diffusion-webui"
      ],
      "metadata": {
        "id": "Q6Qc7BFPummZ"
      },
      "execution_count": null,
      "outputs": []
    },
    {
      "cell_type": "code",
      "source": [
        "# 如果网盘上不存在outputs文件夹，将outputs同步到网盘，以备下次使用\n",
        "!test -d /content/drive/MyDrive/stable-diffusion-webui/outputs || mv /content/stable-diffusion-webui/outputs /content/drive/MyDrive/stable-diffusion-webui/\n",
        "!test -d /content/drive/MyDrive/stable-diffusion-webui/outputs && test -d /content/stable-diffusion-webui/outputs && rm -rf /content/stable-diffusion-webui/outputs\n",
        "!ln -s /content/drive/MyDrive/stable-diffusion-webui/outputs /content/stable-diffusion-webui/outputs"
      ],
      "metadata": {
        "id": "pj7c-QjixgBw"
      },
      "execution_count": null,
      "outputs": []
    },
    {
      "cell_type": "code",
      "source": [
        "# 如果网盘上不存在extensions文件夹，将extensions同步到网盘，以备下次使用（目前先不要使用，有的拓展存在问题）\n",
        "# !test -d /content/drive/MyDrive/stable-diffusion-webui/extensions || mv /content/stable-diffusion-webui/extensions /content/drive/MyDrive/stable-diffusion-webui/\n",
        "# !test -d /content/drive/MyDrive/stable-diffusion-webui/extensions && test -d /content/stable-diffusion-webui/extensions && rm -rf /content/stable-diffusion-webui/extensions\n",
        "# !ln -s /content/drive/MyDrive/stable-diffusion-webui/extensions /content/stable-diffusion-webui/extensions"
      ],
      "metadata": {
        "id": "7N7M3RFp0j24"
      },
      "execution_count": null,
      "outputs": []
    },
    {
      "cell_type": "code",
      "source": [
        "# (如果网盘有足够的使用空间) 可以把当前新下载的model同步至网盘，以备下次使用\n",
        "!test -d /content/drive/MyDrive/stable-diffusion-webui/models/back_Stable-diffusion || mkdir /content/drive/MyDrive/stable-diffusion-webui/models/back_Stable-diffusion -p\n",
        "!test -d /content/drive/MyDrive/stable-diffusion-webui/models/back_Lora || mkdir /content/drive/MyDrive/stable-diffusion-webui/models/back_Lora -p\n",
        "!test -d /content/drive/MyDrive/stable-diffusion-webui/models/back_ControlNet || mkdir /content/drive/MyDrive/stable-diffusion-webui/models/back_ControlNet -p\n",
        "!test -d /content/drive/MyDrive/stable-diffusion-webui/models/back_BLIP || mkdir /content/drive/MyDrive/stable-diffusion-webui/models/models/back_BLIP -p\n",
        "!test -d /content/drive/MyDrive/stable-diffusion-webui/models/back_Codeformer || mkdir /content/drive/MyDrive/stable-diffusion-webui/models/back_Codeformer -p\n",
        "!test -d /content/stable-diffusion-webui/models/Stable-diffusion && cp -r -u /content/stable-diffusion-webui/models/Stable-diffusion/* /content/drive/MyDrive/stable-diffusion-webui/models/back_Stable-diffusion/\n",
        "!test -d /content/stable-diffusion-webui/models/Lora && cp -r -u /content/stable-diffusion-webui/models/Lora/* /content/drive/MyDrive/stable-diffusion-webui/models/back_Lora/\n",
        "!test -d /content/stable-diffusion-webui/models/ControlNet && cp -r -u /content/stable-diffusion-webui/models/ControlNet/* /content/drive/MyDrive/stable-diffusion-webui/models/back_ControlNet/\n",
        "!test -d /content/stable-diffusion-webui/models/BLIP && cp -r -u /content/stable-diffusion-webui/models/BLIP/* /content/drive/MyDrive/stable-diffusion-webui/models/back_BLIP/\n",
        "!test -d /content/stable-diffusion-webui/models/Codeformer && cp -r -u /content/stable-diffusion-webui/models/Codeformer/* /content/drive/MyDrive/stable-diffusion-webui/models/back_Codeformer/"
      ],
      "metadata": {
        "id": "0RX557YYAva8"
      },
      "execution_count": null,
      "outputs": []
    },
    {
      "cell_type": "code",
      "source": [
        "#重新挂载网盘\n",
        "from google.colab import drive\n",
        "%cd /content/\n",
        "drive.mount('/content/drive')"
      ],
      "metadata": {
        "id": "tj8dwKMHQDjn"
      },
      "execution_count": null,
      "outputs": []
    },
    {
      "cell_type": "code",
      "source": [
        "# 重新加载model，执行当前脚本将model同步到运行目录\n",
        "!test -d /content/drive/MyDrive/stable-diffusion-webui/models/Stable-diffusion && (test -z \"$(ls -A /content/drive/MyDrive/stable-diffusion-webui/models/Stable-diffusion)\" || ln -sf /content/drive/MyDrive/stable-diffusion-webui/models/Stable-diffusion*/* /content/stable-diffusion-webui/models/Stable-diffusion/)\n",
        "!test -d /content/drive/MyDrive/stable-diffusion-webui/models/Lora && (test -z \"$(ls -A /content/drive/MyDrive/stable-diffusion-webui/models/Lora)\" || ln -sf /content/drive/MyDrive/stable-diffusion-webui/models/Lora*/* /content/stable-diffusion-webui/models/Lora/)\n",
        "!test -d /content/drive/MyDrive/stable-diffusion-webui/models/ControlNet && (test -z \"$(ls -A /content/drive/MyDrive/stable-diffusion-webui/models/ControlNet)\" || ln -sf /content/drive/MyDrive/stable-diffusion-webui/models/ControlNet*/* /content/stable-diffusion-webui/models/ControlNet/)\n",
        "!test -d /content/drive/MyDrive/stable-diffusion-webui/models/BLIP && (test -z \"$(ls -A /content/drive/MyDrive/stable-diffusion-webui/models/BLIP)\" || ln -sf /content/drive/MyDrive/stable-diffusion-webui/models/BLIP*/* /content/stable-diffusion-webui/models/BLIP/)\n",
        "!test -d /content/drive/MyDrive/stable-diffusion-webui/models/Codeformer && (test -z \"$(ls -A /content/drive/MyDrive/stable-diffusion-webui/models/Codeformer)\" || ln -sf /content/drive/MyDrive/stable-diffusion-webui/models/Codeformer*/* /content/stable-diffusion-webui/models/Codeformer/)"
      ],
      "metadata": {
        "id": "DIuEv6ZPMvD4"
      },
      "execution_count": null,
      "outputs": []
    },
    {
      "cell_type": "code",
      "source": [
        "# 下载model模型\n",
        "Stable_diffusion_list = [\n",
        "    # \"https://civitai.com/api/download/models/15236\",\n",
        "    # \"https://civitai.com/api/download/models/24365\",\n",
        "    # \"https://civitai.com/api/download/models/19084\",\n",
        "\n",
        "]\n",
        "Lora_list = [\n",
        "    # \"https://civitai.com/api/download/models/27889\",\n",
        "\n",
        "]\n",
        "ControlNet_list = [\n",
        "    # \"https://huggingface.co/webui/ControlNet-modules-safetensors/blob/main/control_canny-fp16.safetensors\",\n",
        "]\n",
        "\n",
        "!test -d /content/drive/MyDrive/stable-diffusion-webui/models/Lora || mkdir /content/drive/MyDrive/stable-diffusion-webui/models/Lora -p\n",
        "for _url in Lora_list:\n",
        "  print(_url)\n",
        "  !aria2c --console-log-level=error -c -x 16 -k 1M -s 16 $_url -d /content/drive/MyDrive/stable-diffusion-webui/models/Lora\n",
        "!test -d /content/drive/MyDrive/stable-diffusion-webui/models/Stable-diffusion || mkdir /content/drive/MyDrive/stable-diffusion-webui/models/Stable-diffusion -p\n",
        "for _url in Stable_diffusion_list:\n",
        "  print(_url)\n",
        "  !aria2c --console-log-level=error -c -x 16 -k 1M -s 16 $_url -d /content/drive/MyDrive/stable-diffusion-webui/models/Stable-diffusion\n",
        "!test -d /content/drive/MyDrive/stable-diffusion-webui/models/ControlNet || mkdir /content/drive/MyDrive/stable-diffusion-webui/models/ControlNet -p\n",
        "for _url in Stable_diffusion_list:\n",
        "  print(_url)\n",
        "  !aria2c --console-log-level=error -c -x 16 -k 1M -s 16 $_url -d /content/drive/MyDrive/stable-diffusion-webui/models/ControlNet\n"
      ],
      "metadata": {
        "id": "yN85SjeeRstQ"
      },
      "execution_count": null,
      "outputs": []
    }
  ],
  "metadata": {
    "colab": {
      "private_outputs": true,
      "provenance": [],
      "include_colab_link": true
    },
    "gpuClass": "standard",
    "kernelspec": {
      "display_name": "Python 3",
      "name": "python3"
    },
    "language_info": {
      "name": "python"
    },
    "accelerator": "GPU"
  },
  "nbformat": 4,
  "nbformat_minor": 0
}